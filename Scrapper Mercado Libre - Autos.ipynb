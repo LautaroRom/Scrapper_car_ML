{
 "cells": [
  {
   "cell_type": "markdown",
   "id": "3d0372b4",
   "metadata": {},
   "source": [
    "## Scrapper de Mercado Libre - Vehículos"
   ]
  },
  {
   "cell_type": "markdown",
   "id": "fb787c8d",
   "metadata": {},
   "source": [
    "El siguiente script tiene como finalidad la extraccion de informacion de automoviles publicados en Mercado Libre. La informacion se guardara en un archivo .csv y contendra los siguientes datos: marca, modelo, año de fabricación y kilometraje de los vehiculos."
   ]
  },
  {
   "cell_type": "code",
   "execution_count": null,
   "id": "b55fda53",
   "metadata": {},
   "outputs": [],
   "source": [
    "#Importamos las librerias necesarias\n",
    "\n",
    "from selenium import webdriver\n",
    "from selenium.webdriver.common.by import By\n",
    "import time\n",
    "import csv"
   ]
  },
  {
   "cell_type": "code",
   "execution_count": null,
   "id": "d98bfc0e",
   "metadata": {},
   "outputs": [],
   "source": [
    "#Ingreso de las caracteristicas de busqueda deseadas\n",
    "\n",
    "marca = input(\"Por favor, ingresa la marca del vehiculo: \")\n",
    "modelo = input(\"Por favor, ingresa el modelo del vehiculo: \")\n",
    "año_desde = input(\"Por favor, ingrese desde que año de fabricacion desea buscar el vehiculo. Si es indiferente indique 'desde': \")\n",
    "año_hasta = input(\"Por favor, ingrese hasta que año de fabricacion desea buscar el vehiculo. Si es indiferente indique 'hasta': \")\n",
    "\n",
    "if año_desde == \"desde\":\n",
    "    notificacion_busqueda = f\"Se procedera a buscar informacion sobre vehiculos marca {marca}, modelo {modelo}, fabricados hasta el año {año_hasta}\"\n",
    "elif año_hasta == \"hasta\":\n",
    "    notificacion_busqueda = f\"Se procedera a buscar informacion sobre vehiculos marca {marca}, modelo {modelo}, fabricados desde el año {año_desde}\"\n",
    "else:\n",
    "    notificacion_busqueda = f\"Se procedera a buscar informacion sobre vehiculos marca {marca}, modelo {modelo}, fabricados entre los años {año_desde} y {año_hasta}\"\n",
    "\n",
    "print(notificacion_busqueda)"
   ]
  },
  {
   "cell_type": "code",
   "execution_count": null,
   "id": "cbc1d645",
   "metadata": {},
   "outputs": [],
   "source": [
    "#Construccion de la dirección de URL\n",
    "\n",
    "url_base = \"https://autos.mercadolibre.com.ar\"\n",
    "def armar_url(url_base, marca, modelo, año_desde, año_hasta):\n",
    "    mi_url = url_base\n",
    "    mi_url+=f'/{marca}'\n",
    "    mi_url+=f'/{modelo}'\n",
    "    \n",
    "    if año_desde == \"desde\":\n",
    "        mi_url += f'/hasta-{año_hasta}'\n",
    "    elif año_hasta == \"hasta\":\n",
    "        mi_url += f'/desde-{año_desde}'\n",
    "    else:\n",
    "        mi_url += f'/{año_desde}-{año_hasta}'\n",
    "    \n",
    "    mi_url+=f'/{marca}-{modelo}_NoIndex_True#applied_filter_id%3DVEHICLE_YEAR%26applied_filter_name%3DA%C3%B1o%26applied_filter_order%3D7%26applied_value_id%3D'\n",
    "    if año_hasta == \"hasta\":        \n",
    "        mi_url+=f'*-{año_hasta}'\n",
    "    elif año_desde == \"desde\":\n",
    "        mi_url+=f'{año_desde}-*'\n",
    "    else:\n",
    "        mi_url += f'{año_desde}-{año_hasta}'\n",
    "        \n",
    "    mi_url += f'%26applied_value_name%3D'\n",
    "    \n",
    "    if año_hasta == \"hasta\":        \n",
    "        mi_url+=f'*-{año_hasta}'\n",
    "    elif año_desde == \"desde\":\n",
    "        mi_url+=f'{año_desde}-*'\n",
    "    else:\n",
    "        mi_url += f'{año_desde}-{año_hasta}'\n",
    "        \n",
    "    mi_url += f'%26applied_value_order%3D10%26applied_value_results%3DUNKNOWN_RESULTS%26is_custom%3D'\n",
    "            \n",
    "    return mi_url\n",
    "\n",
    "url = armar_url(url_base, marca, modelo, año_desde, año_hasta)\n",
    "url"
   ]
  },
  {
   "cell_type": "code",
   "execution_count": null,
   "id": "62a822aa",
   "metadata": {},
   "outputs": [],
   "source": [
    "#Carga y configuración del Driver\n",
    "\n",
    "options = webdriver.ChromeOptions()\n",
    "options.add_argument('--incognito')\n",
    "driver = webdriver.Chrome(executable_path='C:/Users/Laut/Proyectos data/Latam_scraping/chromedriver', options=options)\n",
    "info_autos = []\n",
    "\n",
    "#Función para scrappear\n",
    "\n",
    "def obtener_info(driver):\n",
    "    driver.get(url)\n",
    "    time.sleep(10)\n",
    "    autos = driver.find_elements(By.XPATH,'//li[@class=\"ui-search-layout__item\"]')\n",
    "\n",
    "    for auto in autos:\n",
    "     \n",
    "        # Encuentra el modelo del auto dentro de la clase \"ui-search-item__title shops__item-title\"\n",
    "        modelo = auto.find_element(By.CLASS_NAME, \"ui-search-item__title\").text.strip()\n",
    "\n",
    "        # Encuentra los elementos li dentro de la clase \"ui-search-card-attributes__attribute\"\n",
    "        attributes = auto.find_elements(By.CLASS_NAME, \"ui-search-card-attributes__attribute\")\n",
    "\n",
    "        # Extrae el año de fabricación y el kilometraje (asumiendo que siempre están en ese orden)\n",
    "        if len(attributes) >= 2:\n",
    "            año_fabricacion = attributes[0].text.strip()\n",
    "            kilometraje = attributes[1].text.strip()\n",
    "        else:\n",
    "            año_fabricacion = \"No encontrado\"\n",
    "            kilometraje = \"No encontrado\"\n",
    "\n",
    "        # Encuentra el elemento span con la clase \"andes-money-amount__fraction\" para el precio\n",
    "        precio_element = auto.find_element(By.CLASS_NAME, \"andes-money-amount__fraction\")\n",
    "        precio = precio_element.text.strip()\n",
    "\n",
    "        # Encuentra el elemento span con la clase \"andes-money-amount__currency-symbol\" para la moneda\n",
    "        moneda_element = auto.find_element(By.CLASS_NAME, \"andes-money-amount__currency-symbol\")\n",
    "        moneda = moneda_element.text.strip()\n",
    "\n",
    "        info_autos.append([modelo, año_fabricacion, kilometraje, precio, moneda])\n",
    "\n",
    "    return info_autos"
   ]
  },
  {
   "cell_type": "code",
   "execution_count": null,
   "id": "b09cbae9",
   "metadata": {},
   "outputs": [],
   "source": [
    "#Ejecución del scrapper\n",
    "\n",
    "current_page = 1\n",
    "while True:\n",
    "    print(f\"Recopilando información de la página {current_page}...\")\n",
    "    obtener_info(driver)\n",
    "\n",
    "    # Busqueda del botón \"Siguiente\" para ir a la siguiente página\n",
    "    try:\n",
    "        next_button = driver.find_element(By.CLASS_NAME, \"andes-pagination__button--next\")\n",
    "        next_button_link = next_button.find_element(By.TAG_NAME, \"a\").get_attribute(\"href\")\n",
    "        if next_button_link:\n",
    "            url = next_button_link\n",
    "            current_page += 1\n",
    "        else:\n",
    "            break  # No hay más páginas\n",
    "    except:\n",
    "        break  # No se encontró el botón \"Siguiente\" o no hay más páginas\n",
    "\n",
    "driver.close()\n",
    "print(\"Ha finalizado la recopilación de informacion\")\n",
    "\n",
    "# Carga de la información en archivo CSV\n",
    "csv_filename = \"informacion_autos.csv\"\n",
    "with open(csv_filename, mode='w', newline='', encoding='utf-8') as csv_file:\n",
    "    writer = csv.writer(csv_file)\n",
    "    writer.writerow([\"Modelo\", \"Año de Fabricación\", \"Kilometraje\", \"Precio\", \"Moneda\"])\n",
    "    writer.writerows(info_autos)\n",
    "\n",
    "print(f\"La información se ha guardado en la lista 'info_autos' y exportada al archivo '{csv_filename}'\")"
   ]
  },
  {
   "cell_type": "code",
   "execution_count": null,
   "id": "548e8aae",
   "metadata": {},
   "outputs": [],
   "source": [
    "info_autos"
   ]
  }
 ],
 "metadata": {
  "kernelspec": {
   "display_name": "Python 3 (ipykernel)",
   "language": "python",
   "name": "python3"
  },
  "language_info": {
   "codemirror_mode": {
    "name": "ipython",
    "version": 3
   },
   "file_extension": ".py",
   "mimetype": "text/x-python",
   "name": "python",
   "nbconvert_exporter": "python",
   "pygments_lexer": "ipython3",
   "version": "3.9.7"
  }
 },
 "nbformat": 4,
 "nbformat_minor": 5
}
